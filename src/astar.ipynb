{
 "cells": [
  {
   "cell_type": "code",
   "execution_count": null,
   "metadata": {},
   "outputs": [],
   "source": [
    "import numpy as np\n",
    "\n",
    "def astar(input_map, start, end):\n",
    "    # run A* algorithm on a 3D grid\n",
    "    \n",
    "    # Inputs:\n",
    "    # input_map: a logical numpy array of shape (time, height, width) where the freespace cells are 0 and obstacles are 1\n",
    "    # start, end : coordinates of the start and end cells\n",
    "    \n",
    "    # Outputs: \n",
    "    # route: an array containing the indices of cells along the shortest route from start to end or an empty array if there is no route\n",
    "    \n",
    "    time, height, width = input_map.shape\n",
    "    status_map = np.zeros((time, height, width))\n",
    "    status_map[np.not(input_map)] = 1\n",
    "    status_map[input_map] = 2\n",
    "    f = np.full((time, height, width), np.inf)\n",
    "    g = np.full((time, height, width), np.inf)\n",
    "    parent = np.zeros((time, height, width))"
   ]
  }
 ],
 "metadata": {
  "kernelspec": {
   "display_name": "Python 3",
   "language": "python",
   "name": "python3"
  },
  "language_info": {
   "codemirror_mode": {
    "name": "ipython",
    "version": 3
   },
   "file_extension": ".py",
   "mimetype": "text/x-python",
   "name": "python",
   "nbconvert_exporter": "python",
   "pygments_lexer": "ipython3",
   "version": "3.5.2"
  }
 },
 "nbformat": 4,
 "nbformat_minor": 2
}
