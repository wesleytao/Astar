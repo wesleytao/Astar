{
 "cells": [
  {
   "cell_type": "code",
   "execution_count": 1,
   "metadata": {},
   "outputs": [
     "data": {
      "text/html": [
       "<div>\n",
       "<style>\n",
       "    .dataframe thead tr:only-child th {\n",
       "        text-align: right;\n",
       "    }\n",
       "\n",
       "    .dataframe thead th {\n",
       "        text-align: left;\n",
       "    }\n",
       "\n",
       "    .dataframe tbody tr th {\n",
       "        vertical-align: top;\n",
       "    }\n",
       "</style>\n",
       "<table border=\"1\" class=\"dataframe\">\n",
       "  <thead>\n",
       "    <tr style=\"text-align: right;\">\n",
       "      <th></th>\n",
       "      <th>cid</th>\n",
       "      <th>xid</th>\n",
       "      <th>yid</th>\n",
       "    </tr>\n",
       "  </thead>\n",
       "  <tbody>\n",
       "    <tr>\n",
       "      <th>0</th>\n",
       "      <td>0</td>\n",
       "      <td>142</td>\n",
       "      <td>328</td>\n",
       "    </tr>\n",
       "    <tr>\n",
       "      <th>1</th>\n",
       "      <td>1</td>\n",
       "      <td>84</td>\n",
       "      <td>203</td>\n",
       "    </tr>\n",
       "    <tr>\n",
       "      <th>2</th>\n",
       "      <td>2</td>\n",
       "      <td>199</td>\n",
       "      <td>371</td>\n",
       "    </tr>\n",
       "    <tr>\n",
       "      <th>3</th>\n",
       "      <td>3</td>\n",
       "      <td>140</td>\n",
       "      <td>234</td>\n",
       "    </tr>\n",
       "    <tr>\n",
       "      <th>4</th>\n",
       "      <td>4</td>\n",
       "      <td>236</td>\n",
       "      <td>241</td>\n",
       "    </tr>\n",
       "    <tr>\n",
       "      <th>5</th>\n",
       "      <td>5</td>\n",
       "      <td>315</td>\n",
       "      <td>281</td>\n",
       "    </tr>\n",
       "    <tr>\n",
       "      <th>6</th>\n",
       "      <td>6</td>\n",
       "      <td>358</td>\n",
       "      <td>207</td>\n",
       "    </tr>\n",
       "    <tr>\n",
       "      <th>7</th>\n",
       "      <td>7</td>\n",
       "      <td>363</td>\n",
       "      <td>237</td>\n",
       "    </tr>\n",
       "    <tr>\n",
       "      <th>8</th>\n",
       "      <td>8</td>\n",
       "      <td>423</td>\n",
       "      <td>266</td>\n",
       "    </tr>\n",
       "    <tr>\n",
       "      <th>9</th>\n",
       "      <td>9</td>\n",
       "      <td>125</td>\n",
       "      <td>375</td>\n",
       "    </tr>\n",
       "    <tr>\n",
       "      <th>10</th>\n",
       "      <td>10</td>\n",
       "      <td>189</td>\n",
       "      <td>274</td>\n",
       "    </tr>\n",
       "  </tbody>\n",
       "</table>\n",
       "</div>"
      ],
      "text/plain": [
       "    cid  xid  yid\n",
       "0     0  142  328\n",
       "1     1   84  203\n",
       "2     2  199  371\n",
       "3     3  140  234\n",
       "4     4  236  241\n",
       "5     5  315  281\n",
       "6     6  358  207\n",
       "7     7  363  237\n",
       "8     8  423  266\n",
       "9     9  125  375\n",
       "10   10  189  274"
      ]
     },
     "execution_count": 1,
     "metadata": {},
     "output_type": "execute_result"
    }
   ],
   "source": [
    "import os\n",
    "import pandas as pd\n",
    "citypath = os.path.expanduser('~wesle\\Desktop\\contest\\data\\CityData.csv')\n",
    "city=pd.read_csv(citypath)\n",
    "city "
   ]
  },
  {
   "cell_type": "code",
   "execution_count": 2,
   "metadata": {
    "collapsed": true
   },
   "outputs": [],
   "source": [
    "T=pd.read_csv(\"C:\\\\Users\\\\wesle\\\\Desktop\\\\contest\\\\data\\\\In_situMeasurementforTraining_201712.csv\")"
   ]
  },
  {
   "cell_type": "code",
   "execution_count": 5,
   "metadata": {},
   "outputs": [
    {
     "data": {
      "text/html": [
       "<div>\n",
       "<style>\n",
       "    .dataframe thead tr:only-child th {\n",
       "        text-align: right;\n",
       "    }\n",
       "\n",
       "    .dataframe thead th {\n",
       "        text-align: left;\n",
       "    }\n",
       "\n",
       "    .dataframe tbody tr th {\n",
       "        vertical-align: top;\n",
       "    }\n",
       "</style>\n",
       "<table border=\"1\" class=\"dataframe\">\n",
       "  <thead>\n",
       "    <tr style=\"text-align: right;\">\n",
       "      <th></th>\n",
       "      <th>xid</th>\n",
       "      <th>yid</th>\n",
       "      <th>date_id</th>\n",
       "      <th>hour</th>\n",
       "      <th>wind</th>\n",
       "    </tr>\n",
       "  </thead>\n",
       "  <tbody>\n",
       "    <tr>\n",
       "      <th>0</th>\n",
       "      <td>1</td>\n",
       "      <td>1</td>\n",
       "      <td>1</td>\n",
       "      <td>3</td>\n",
       "      <td>12.8</td>\n",
       "    </tr>\n",
       "    <tr>\n",
       "      <th>1</th>\n",
       "      <td>1</td>\n",
       "      <td>2</td>\n",
       "      <td>1</td>\n",
       "      <td>3</td>\n",
       "      <td>12.8</td>\n",
       "    </tr>\n",
       "    <tr>\n",
       "      <th>2</th>\n",
       "      <td>1</td>\n",
       "      <td>3</td>\n",
       "      <td>1</td>\n",
       "      <td>3</td>\n",
       "      <td>12.6</td>\n",
       "    </tr>\n",
       "    <tr>\n",
       "      <th>3</th>\n",
       "      <td>1</td>\n",
       "      <td>4</td>\n",
       "      <td>1</td>\n",
       "      <td>3</td>\n",
       "      <td>12.1</td>\n",
       "    </tr>\n",
       "    <tr>\n",
       "      <th>4</th>\n",
       "      <td>1</td>\n",
       "      <td>5</td>\n",
       "      <td>1</td>\n",
       "      <td>3</td>\n",
       "      <td>11.6</td>\n",
       "    </tr>\n",
       "  </tbody>\n",
       "</table>\n",
       "</div>"
      ],
      "text/plain": [
       "   xid  yid  date_id  hour  wind\n",
       "0    1    1        1     3  12.8\n",
       "1    1    2        1     3  12.8\n",
       "2    1    3        1     3  12.6\n",
       "3    1    4        1     3  12.1\n",
       "4    1    5        1     3  11.6"
      ]
     },
     "execution_count": 5,
     "metadata": {},
     "output_type": "execute_result"
    }
   ],
   "source": [
    "dayone=T[T.date_id==1]\n",
    "# xid 1-548 yid 1-421 hour 3-20 day 1-5\n",
    "dayone.head()"
   ]
  },
  {
   "cell_type": "code",
   "execution_count": 6,
   "metadata": {
    "collapsed": true
   },
   "outputs": [],
   "source": [
    "class Vertex:\n",
    "    def __init__(self,key):\n",
    "        # key is the tuple\n",
    "        self.id = key\n",
    "        # each vertex has four neighbours and itself \n",
    "        # store in dictionary\n",
    "        self.connectedTo = {}\n",
    "        self.weather ={}\n",
    "        \n",
    "    def setWeather(self,timeid,wind):\n",
    "        self.weather[timeid] = wind\n",
    "  \n",
    "    def addNeighbor(self,nbr,weight=1):\n",
    "        #nbr is a vertex\n",
    "        self.connectedTo[nbr.id] = weight\n",
    "        # when I store the information about the connectivity, diction is used, key is tuple,obj is weight\n",
    "    def __str__(self):\n",
    "        return str(self.id) + ' connectedTo: ' + str([key for key in self.connectedTo])\n"
   ]
  },
  {
   "cell_type": "code",
   "execution_count": 7,
   "metadata": {
    "collapsed": true
   },
   "outputs": [],
   "source": [
    "class Graph:\n",
    "    def __init__(self,max_x,max_y):\n",
    "        self.vertList    = {}\n",
    "        self.numVertices = max_x*max_y\n",
    "        self.length      = max_y\n",
    "        self.width       = max_x\n",
    "        for x in range(1,max_x+1):\n",
    "            for y in range(1,max_y+1):\n",
    "                self.vertList[(x,y)] = Vertex((x,y))\n",
    "                # each key is a tuple and the objects are Vertex obj\n",
    "    \n",
    "    def makegrid(self):\n",
    "        ''' make connection among each vertex'''\n",
    "        for vertice in self:\n",
    "            #left \n",
    "            if vertice.id[0]>=2:\n",
    "                left=(vertice.id[0]-1,vertice.id[1])  \n",
    "                try:\n",
    "                    self.addEdge(vertice.id,left)\n",
    "                except ValueError as e:\n",
    "                    print(e)\n",
    "                    pass\n",
    "\n",
    "\n",
    "            #right\n",
    "            if vertice.id[0]<=self.width-1:\n",
    "                right=(vertice.id[0]+1,vertice.id[1])             \n",
    "                try:\n",
    "                    self.addEdge(vertice.id,right)\n",
    "                except ValueError as e:\n",
    "                    print(e)\n",
    "                    pass\n",
    "\n",
    "            # up\n",
    "            if vertice.id[1]<=self.length-1:\n",
    "                up=(vertice.id[0],vertice.id[1]+1)             \n",
    "                try:\n",
    "                    self.addEdge(vertice.id,up)\n",
    "                except ValueError as e:\n",
    "                    print(e)\n",
    "                    pass\n",
    "\n",
    "            # down\n",
    "            if vertice.id[1]>=2:\n",
    "                down=(vertice.id[0],vertice.id[1]-1)             \n",
    "                try:\n",
    "                    self.addEdge(vertice.id,down)\n",
    "                except ValueError as e:\n",
    "                    print(e)\n",
    "                    pass\n",
    "    \n",
    "    def getVertexNeighbour(self,v):\n",
    "        if v in self:\n",
    "            return set(self.vertList[v].connectedTo.keys())\n",
    "        else:\n",
    "            raise TypeError(\"it is not in the graph\")\n",
    "   \n",
    "    def __contains__(self,n):\n",
    "        return n in self.vertList\n",
    "    \n",
    "    def __iter__(self):\n",
    "        return iter(self.vertList.values())\n",
    "    \n",
    "    def addEdge(self,f,t,cost=1):\n",
    "        if f not in self.vertList:\n",
    "            raise ValueError(\"f is not in the graph\")\n",
    "        if t not in self.vertList:\n",
    "            raise ValueError(\"t is not in the graph\")\n",
    "        self.vertList[f].addNeighbor(self.vertList[t], cost)\n",
    "        \n",
    "    def deleteEdge(self,f,t):\n",
    "        if f not in self.vertList:\n",
    "            raise ValueError(\"f is not in the graph\")\n",
    "        if t not in self.vertList:\n",
    "            raise ValueError(\"t is not in the graph\")\n",
    "        # pairwise delete\n",
    "        del self.vertList[f].connectedTo[t] \n",
    "        del self.vertList[t].connectedTo[f]\n",
    "    \n",
    "     # need to make obstacles\n",
    "     # disconnect the dots with its neighbour\n",
    "    def disconnect(self,thisvertex):\n",
    "        neighbour=[key for key in self.vertList[thisvertex].connectedTo]\n",
    "        for i in neighbour:\n",
    "            self.deleteEdge(thisvertex,i)\n",
    "            \n",
    "    def printgraph(self):\n",
    "        for myvertice in self:\n",
    "            print(myvertice)\n",
    "            \n",
    "    def isdisconnect(self,v):\n",
    "        # if all the neighbour is not reachable \n",
    "        if self.getVertexNeighbour(v) ==set():\n",
    "            return True\n",
    "        else: return False"
   ]
  },
  {
   "cell_type": "code",
   "execution_count": 8,
   "metadata": {
    "collapsed": true
   },
   "outputs": [],
   "source": [
    "def Dijkstra(graph,start,end):\n",
    "    '''find the shortest path between start and end if there is no path return False else return the path '''\n",
    "    if graph.isdisconnect(start):\n",
    "        raise TypeError('The root of the shortest path tree cannot be reached')\n",
    "    if graph.isdisconnect(end):\n",
    "        raise TypeError('The target of the shortest path cannot be reached') \n",
    "     \n",
    "    # initializing all vertex are set to be unvisited except for the start\n",
    "    unvisited=set(graph.vertList.keys())\n",
    "    visited={start}\n",
    "    unvisited.remove(start)\n",
    "    dist=dict()\n",
    "    path=dict()\n",
    "    for e in unvisited:\n",
    "        dist[e]=float(\"inf\") # infinite means not reachable\n",
    "        path[e]=-1\n",
    "    for n in graph.getVertexNeighbour(start):\n",
    "        dist[n]=1\n",
    "        path[n]=start\n",
    "    dist[start]=0\n",
    "    \n",
    "    while unvisited is not None:\n",
    "        #pick unvisited closest node \n",
    "        subsetdist={k: dist[k] for k in dist.keys() & unvisited}\n",
    "        newnode=min(subsetdist,key=subsetdist.get)\n",
    "        # move it from unvisited to visited\n",
    "        if newnode==end:\n",
    "            break\n",
    "        visited.add(newnode)\n",
    "        \n",
    "        unvisited.remove(newnode)\n",
    "\n",
    "        # update the distance\n",
    "        for n in graph.getVertexNeighbour(newnode):\n",
    "            if dist[newnode]+1<=dist[n]:\n",
    "                dist[n]=dist[newnode]+1\n",
    "                path[n]=newnode\n",
    "    # print out the path\n",
    "    out=[end]\n",
    "    temp=path[end]\n",
    "    while temp != start:\n",
    "        out.append(temp)\n",
    "        temp=path[temp]\n",
    "    out.append(start)\n",
    "    return out"
   ]
  },
  {
   "cell_type": "markdown",
   "metadata": {},
   "source": [
    "The following chunks is copied from  https://github.com/vandersonmr/A_Star_Algorithm/blob/master/libs/python/AStar.py\n",
    "Created by Joao A. Jesus Jr. <joao29a@gmail.com>"
   ]
  },
  {
   "cell_type": "code",
   "execution_count": 11,
   "metadata": {
    "collapsed": true
   },
   "outputs": [],
   "source": [
    "from collections import deque\n",
    "\n",
    "class AStar():\n",
    "    def __init__(self,graph,dangerzone):\n",
    "        self.graph=graph\n",
    "        # danger zone is a diction with index from 4 to 20  each element is a list of tuples which is danger for the balloon\n",
    "        self.dangerzone=dangerzone\n",
    "\n",
    "    def distBetween(self,current,neighbor):\n",
    "    # since it is in the grid the distance between the neighbour is always 1\n",
    "        return 1\n",
    "\n",
    "    def heuristicEstimate(self,start,goal):\n",
    "        # we use manhattan distance\n",
    "        dx=abs(start[0]-goal[0])\n",
    "        dy=abs(start[1]-goal[1])\n",
    "        return (dx+dy)\n",
    "\n",
    "    def neighborNodes(self,current):\n",
    "        return set(self.graph.vertList[current].connectedTo.keys())\n",
    "    \n",
    "    def reconstructPath(self,cameFrom,goal):\n",
    "        '''this is going to print the path'''\n",
    "        path = deque()\n",
    "        node = goal\n",
    "        path.appendleft(node)\n",
    "        while node in cameFrom:\n",
    "            node = cameFrom[node]\n",
    "            path.appendleft(node)\n",
    "        return path\n",
    "    \n",
    "    def getLowest(self,openSet,fScore):\n",
    "        lowest = float(\"inf\")\n",
    "        lowestNode = None\n",
    "        for node in openSet:\n",
    "            if fScore[node] < lowest:\n",
    "                lowest = fScore[node]\n",
    "                lowestNode = node\n",
    "        return lowestNode\n",
    "\n",
    "    def updategraph(self,dzlist):\n",
    "        self.graph.makegrid()\n",
    "        for e in dzlist:\n",
    "            self.graph.disconnect(e)\n",
    "    \n",
    "    def aStar(self,start,goal):\n",
    "        cameFrom = {}\n",
    "        openSet = set([start])\n",
    "        closedSet = []# this is the list we visited\n",
    "        gScore = {} # this one store the distance from starting point to the point in closedSet\n",
    "        fScore = {} \n",
    "        gScore[start] = 0\n",
    "        fScore[start] = gScore[start] + self.heuristicEstimate(start,goal)\n",
    "        # I would like to add a clock to count down the steps \n",
    "        time=1\n",
    "        \n",
    "\n",
    "            \n",
    "        \n",
    "        while len(openSet) != 0:\n",
    "\n",
    "            current = self.getLowest(openSet,fScore)\n",
    "            \n",
    "            if current == goal:\n",
    "                return self.reconstructPath(cameFrom,goal)\n",
    "            openSet.remove(current)\n",
    "            closedSet.append(current)\n",
    "            \n",
    "            \n",
    "            \n",
    "            for neighbor in self.neighborNodes(current):\n",
    "                tentative_gScore = gScore[current] + self.distBetween(current,neighbor)\n",
    "                if neighbor in closedSet and tentative_gScore >= gScore[neighbor]: # if it is visited and the cost is bigger than original ones \n",
    "                    continue# we don't store this neighbour and do nothing\n",
    "                    \n",
    "                if neighbor not in closedSet or tentative_gScore < gScore[neighbor]:\n",
    "                    cameFrom[neighbor] = current\n",
    "                    gScore[neighbor] = tentative_gScore\n",
    "                    fScore[neighbor] = gScore[neighbor] + self.heuristicEstimate(neighbor,goal)\n",
    "                    # update a new way to get to this point\n",
    "                    # if it has not been visited we add it to the openset\n",
    "                    if neighbor not in openSet:\n",
    "                        openSet.add(neighbor)\n",
    "            \n",
    "            time =time+1\n",
    "           \n",
    "            if time % 30 ==0: \n",
    "                hour=time/30+3 # hour start from 3 to 20 \n",
    "                print(hour)\n",
    "                self.updategraph(self.dangerzone[hour])\n",
    "                # reset the openSet it only contains the last one's neighbour\n",
    "                if self.graph.isdisconnect(current):\n",
    "                    print(\"go to wrong way have to go back\")\n",
    "                    backstep=1\n",
    "                    closedSet.pop()\n",
    "                    previous=closedSet.pop()\n",
    "                    while(self.graph.isdisconnect(previous)):\n",
    "                        previous=closedSet.pop()\n",
    "                        backstep =backstep+1\n",
    "                    current=previous\n",
    "                    closedSet.append([current]*backstep)\n",
    "                    \n",
    "                openSet.clear()\n",
    "                for neighbor in self.neighborNodes(current):\n",
    "                    print(neighbour)\n",
    "                    openSet.add(neighbor)\n",
    "            \n",
    "        \n",
    "        return 0"
   ]
  },
  {
   "cell_type": "code",
   "execution_count": 13,
   "metadata": {},
   "outputs": [
    {
     "name": "stderr",
     "output_type": "stream",
     "text": [
      "C:\\Wesley_Tao\\6.Software\\Anaconda\\lib\\site-packages\\ipykernel_launcher.py:7: UserWarning: Boolean Series key will be reindexed to match DataFrame index.\n",
      "  import sys\n"
     ]
    }
   ],
   "source": [
    "# get the danger zone\n",
    "def makedangerzone(df):\n",
    "    # df contains only one day's data\n",
    "    dangerzone=dict()\n",
    "    for hour in set(df.hour.unique()):\n",
    "#         print(hour)\n",
    "        temp=df[df.hour==hour][df.wind>=15].iloc[:,0:2]\n",
    "        dangerzone[hour]=[tuple(x) for x in temp.values]\n",
    "    return dangerzone\n",
    "dangerzone=makedangerzone(dayone)"
   ]
  },
  {
   "cell_type": "code",
   "execution_count": 34,
   "metadata": {},
   "outputs": [
    {
     "data": {
      "text/html": [
       "<div>\n",
       "<style>\n",
       "    .dataframe thead tr:only-child th {\n",
       "        text-align: right;\n",
       "    }\n",
       "\n",
       "    .dataframe thead th {\n",
       "        text-align: left;\n",
       "    }\n",
       "\n",
       "    .dataframe tbody tr th {\n",
       "        vertical-align: top;\n",
       "    }\n",
       "</style>\n",
       "<table border=\"1\" class=\"dataframe\">\n",
       "  <thead>\n",
       "    <tr style=\"text-align: right;\">\n",
       "      <th></th>\n",
       "      <th>cid</th>\n",
       "      <th>xid</th>\n",
       "      <th>yid</th>\n",
       "    </tr>\n",
       "  </thead>\n",
       "  <tbody>\n",
       "    <tr>\n",
       "      <th>0</th>\n",
       "      <td>0</td>\n",
       "      <td>142</td>\n",
       "      <td>328</td>\n",
       "    </tr>\n",
       "    <tr>\n",
       "      <th>1</th>\n",
       "      <td>1</td>\n",
       "      <td>84</td>\n",
       "      <td>203</td>\n",
       "    </tr>\n",
       "    <tr>\n",
       "      <th>2</th>\n",
       "      <td>2</td>\n",
       "      <td>199</td>\n",
       "      <td>371</td>\n",
       "    </tr>\n",
       "    <tr>\n",
       "      <th>3</th>\n",
       "      <td>3</td>\n",
       "      <td>140</td>\n",
       "      <td>234</td>\n",
       "    </tr>\n",
       "    <tr>\n",
       "      <th>4</th>\n",
       "      <td>4</td>\n",
       "      <td>236</td>\n",
       "      <td>241</td>\n",
       "    </tr>\n",
       "    <tr>\n",
       "      <th>5</th>\n",
       "      <td>5</td>\n",
       "      <td>315</td>\n",
       "      <td>281</td>\n",
       "    </tr>\n",
       "    <tr>\n",
       "      <th>6</th>\n",
       "      <td>6</td>\n",
       "      <td>358</td>\n",
       "      <td>207</td>\n",
       "    </tr>\n",
       "    <tr>\n",
       "      <th>7</th>\n",
       "      <td>7</td>\n",
       "      <td>363</td>\n",
       "      <td>237</td>\n",
       "    </tr>\n",
       "    <tr>\n",
       "      <th>8</th>\n",
       "      <td>8</td>\n",
       "      <td>423</td>\n",
       "      <td>266</td>\n",
       "    </tr>\n",
       "    <tr>\n",
       "      <th>9</th>\n",
       "      <td>9</td>\n",
       "      <td>125</td>\n",
       "      <td>375</td>\n",
       "    </tr>\n",
       "    <tr>\n",
       "      <th>10</th>\n",
       "      <td>10</td>\n",
       "      <td>189</td>\n",
       "      <td>274</td>\n",
       "    </tr>\n",
       "  </tbody>\n",
       "</table>\n",
       "</div>"
      ],
      "text/plain": [
       "    cid  xid  yid\n",
       "0     0  142  328\n",
       "1     1   84  203\n",
       "2     2  199  371\n",
       "3     3  140  234\n",
       "4     4  236  241\n",
       "5     5  315  281\n",
       "6     6  358  207\n",
       "7     7  363  237\n",
       "8     8  423  266\n",
       "9     9  125  375\n",
       "10   10  189  274"
      ]
     },
     "execution_count": 34,
     "metadata": {},
     "output_type": "execute_result"
    }
   ],
   "source": [
    "city"
   ]
  },
  {
   "cell_type": "code",
   "execution_count": 70,
   "metadata": {},
   "outputs": [],
   "source": [
    "\n",
    "import gc\n",
    "def drawdanger(df,hour=3):\n",
    "    danger3= pd.DataFrame(dangerzone[hour])\n",
    "    danger3=danger3.rename(index=str,columns={0:\"x\",1:\"y\"})\n",
    "    gc.collect()\n",
    "   \n",
    "    print(ggplot(aes(x=\"x\",y=\"y\"),data=danger3)+geom_point())\n"
   ]
  },
  {
   "cell_type": "code",
   "execution_count": 71,
   "metadata": {},
   "outputs": [
    {
     "data": {
      "image/png": "iVBORw0KGgoAAAANSUhEUgAAAuEAAAHvCAYAAAD6ogF/AAAABHNCSVQICAgIfAhkiAAAAAlwSFlz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\nI2MSTkRERERkZP8Hl3a5N2B5O/4AAAAASUVORK5CYII=\n",
      "text/plain": [
       "<matplotlib.figure.Figure at 0x1eab489e668>"
      ]
     },
     "metadata": {},
     "output_type": "display_data"
    },
    {
     "name": "stdout",
     "output_type": "stream",
     "text": [
      "<ggplot: (131722664810)>\n"
     ]
    }
   ],
   "source": [
    "drawdanger(dangerzone)"
   ]
  },
  {
   "cell_type": "code",
   "execution_count": 30,
   "metadata": {},
   "outputs": [
    {
     "data": {
      "image/png": "iVBORw0KGgoAAAANSUhEUgAAAuEAAAHvCAYAAAD6ogF/AAAABHNCSVQICAgIfAhkiAAAAAlwSFlz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\n/g8qARsrmCGflwAAAABJRU5ErkJggg==\n",
      "text/plain": [
       "<matplotlib.figure.Figure at 0x1eae69792b0>"
      ]
     },
     "metadata": {},
     "output_type": "display_data"
    },
    {
     "name": "stdout",
     "output_type": "stream",
     "text": [
      "<ggplot: (131720603172)>\n"
     ]
    }
   ],
   "source": [
    "drawdanger(dangerzone,hour=4)"
   ]
  },
  {
   "cell_type": "code",
   "execution_count": 229,
   "metadata": {
    "collapsed": true
   },
   "outputs": [],
   "source": [
    "wholegraph=Graph(max_x=548,max_y=421)"
   ]
  },
  {
   "cell_type": "code",
   "execution_count": 230,
   "metadata": {
    "collapsed": true
   },
   "outputs": [],
   "source": [
    "wholegraph.makegrid()"
   ]
  },
  {
   "cell_type": "code",
   "execution_count": 231,
   "metadata": {
    "collapsed": true
   },
   "outputs": [],
   "source": [
    "wholeastar=AStar(wholegraph,dangerzone)"
   ]
  },
  {
   "cell_type": "code",
   "execution_count": 233,
   "metadata": {},
   "outputs": [
    {
     "data": {
      "text/plain": [
       "(142, 328)"
      ]
     },
     "execution_count": 233,
     "metadata": {},
     "output_type": "execute_result"
    }
   ],
   "source": [
    "start"
   ]
  },
  {
   "cell_type": "code",
   "execution_count": 234,
   "metadata": {},
   "outputs": [
    {
     "data": {
      "text/plain": [
       "(84, 203)"
      ]
     },
     "execution_count": 234,
     "metadata": {},
     "output_type": "execute_result"
    }
   ],
   "source": [
    "goal"
   ]
  },
  {
   "cell_type": "code",
   "execution_count": 235,
   "metadata": {},
   "outputs": [
    {
     "data": {
      "text/html": [
       "<div>\n",
       "<style>\n",
       "    .dataframe thead tr:only-child th {\n",
       "        text-align: right;\n",
       "    }\n",
       "\n",
       "    .dataframe thead th {\n",
       "        text-align: left;\n",
       "    }\n",
       "\n",
       "    .dataframe tbody tr th {\n",
       "        vertical-align: top;\n",
       "    }\n",
       "</style>\n",
       "<table border=\"1\" class=\"dataframe\">\n",
       "  <thead>\n",
       "    <tr style=\"text-align: right;\">\n",
       "      <th></th>\n",
       "      <th>cid</th>\n",
       "      <th>xid</th>\n",
       "      <th>yid</th>\n",
       "    </tr>\n",
       "  </thead>\n",
       "  <tbody>\n",
       "    <tr>\n",
       "      <th>0</th>\n",
       "      <td>0</td>\n",
       "      <td>142</td>\n",
       "      <td>328</td>\n",
       "    </tr>\n",
       "    <tr>\n",
       "      <th>1</th>\n",
       "      <td>1</td>\n",
       "      <td>84</td>\n",
       "      <td>203</td>\n",
       "    </tr>\n",
       "    <tr>\n",
       "      <th>2</th>\n",
       "      <td>2</td>\n",
       "      <td>199</td>\n",
       "      <td>371</td>\n",
       "    </tr>\n",
       "    <tr>\n",
       "      <th>3</th>\n",
       "      <td>3</td>\n",
       "      <td>140</td>\n",
       "      <td>234</td>\n",
       "    </tr>\n",
       "    <tr>\n",
       "      <th>4</th>\n",
       "      <td>4</td>\n",
       "      <td>236</td>\n",
       "      <td>241</td>\n",
       "    </tr>\n",
       "    <tr>\n",
       "      <th>5</th>\n",
       "      <td>5</td>\n",
       "      <td>315</td>\n",
       "      <td>281</td>\n",
       "    </tr>\n",
       "    <tr>\n",
       "      <th>6</th>\n",
       "      <td>6</td>\n",
       "      <td>358</td>\n",
       "      <td>207</td>\n",
       "    </tr>\n",
       "    <tr>\n",
       "      <th>7</th>\n",
       "      <td>7</td>\n",
       "      <td>363</td>\n",
       "      <td>237</td>\n",
       "    </tr>\n",
       "    <tr>\n",
       "      <th>8</th>\n",
       "      <td>8</td>\n",
       "      <td>423</td>\n",
       "      <td>266</td>\n",
       "    </tr>\n",
       "    <tr>\n",
       "      <th>9</th>\n",
       "      <td>9</td>\n",
       "      <td>125</td>\n",
       "      <td>375</td>\n",
       "    </tr>\n",
       "    <tr>\n",
       "      <th>10</th>\n",
       "      <td>10</td>\n",
       "      <td>189</td>\n",
       "      <td>274</td>\n",
       "    </tr>\n",
       "  </tbody>\n",
       "</table>\n",
       "</div>"
      ],
      "text/plain": [
       "    cid  xid  yid\n",
       "0     0  142  328\n",
       "1     1   84  203\n",
       "2     2  199  371\n",
       "3     3  140  234\n",
       "4     4  236  241\n",
       "5     5  315  281\n",
       "6     6  358  207\n",
       "7     7  363  237\n",
       "8     8  423  266\n",
       "9     9  125  375\n",
       "10   10  189  274"
      ]
     },
     "execution_count": 235,
     "metadata": {},
     "output_type": "execute_result"
    }
   ],
   "source": [
    "df"
   ]
  },
  {
   "cell_type": "code",
   "execution_count": 232,
   "metadata": {},
   "outputs": [
    {
     "name": "stdout",
     "output_type": "stream",
     "text": [
      "4.0\n",
      "go to wrong way have to go back\n"
     ]
    },
    {
     "ename": "IndexError",
     "evalue": "pop from empty list",
     "output_type": "error",
     "traceback": [
      "\u001b[1;31m---------------------------------------------------------------------------\u001b[0m",
      "\u001b[1;31mIndexError\u001b[0m                                Traceback (most recent call last)",
      "\u001b[1;32m<ipython-input-232-8118ed18cabb>\u001b[0m in \u001b[0;36m<module>\u001b[1;34m()\u001b[0m\n\u001b[1;32m----> 1\u001b[1;33m \u001b[0mwholeastar\u001b[0m\u001b[1;33m.\u001b[0m\u001b[0maStar\u001b[0m\u001b[1;33m(\u001b[0m\u001b[0mstart\u001b[0m\u001b[1;33m,\u001b[0m\u001b[0mgoal\u001b[0m\u001b[1;33m)\u001b[0m\u001b[1;33m\u001b[0m\u001b[0m\n\u001b[0m\u001b[0;32m      2\u001b[0m \u001b[0mtemproute\u001b[0m\u001b[1;31m# updating the graph is impossible\u001b[0m\u001b[1;33m\u001b[0m\u001b[0m\n",
      "\u001b[1;32m<ipython-input-226-eccaa95f5090>\u001b[0m in \u001b[0;36maStar\u001b[1;34m(self, start, goal)\u001b[0m\n\u001b[0;32m     96\u001b[0m                     \u001b[0mprevious\u001b[0m\u001b[1;33m=\u001b[0m\u001b[0mclosedSet\u001b[0m\u001b[1;33m.\u001b[0m\u001b[0mpop\u001b[0m\u001b[1;33m(\u001b[0m\u001b[1;33m)\u001b[0m\u001b[1;33m\u001b[0m\u001b[0m\n\u001b[0;32m     97\u001b[0m                     \u001b[1;32mwhile\u001b[0m\u001b[1;33m(\u001b[0m\u001b[0mself\u001b[0m\u001b[1;33m.\u001b[0m\u001b[0mgraph\u001b[0m\u001b[1;33m.\u001b[0m\u001b[0misdisconnect\u001b[0m\u001b[1;33m(\u001b[0m\u001b[0mprevious\u001b[0m\u001b[1;33m)\u001b[0m\u001b[1;33m)\u001b[0m\u001b[1;33m:\u001b[0m\u001b[1;33m\u001b[0m\u001b[0m\n\u001b[1;32m---> 98\u001b[1;33m                         \u001b[0mprevious\u001b[0m\u001b[1;33m=\u001b[0m\u001b[0mclosedSet\u001b[0m\u001b[1;33m.\u001b[0m\u001b[0mpop\u001b[0m\u001b[1;33m(\u001b[0m\u001b[1;33m)\u001b[0m\u001b[1;33m\u001b[0m\u001b[0m\n\u001b[0m\u001b[0;32m     99\u001b[0m                         \u001b[0mbackstep\u001b[0m \u001b[1;33m=\u001b[0m\u001b[0mbackstep\u001b[0m\u001b[1;33m+\u001b[0m\u001b[1;36m1\u001b[0m\u001b[1;33m\u001b[0m\u001b[0m\n\u001b[0;32m    100\u001b[0m                     \u001b[0mcurrent\u001b[0m\u001b[1;33m=\u001b[0m\u001b[0mprevious\u001b[0m\u001b[1;33m\u001b[0m\u001b[0m\n",
      "\u001b[1;31mIndexError\u001b[0m: pop from empty list"
     ]
    }
   ],
   "source": [
    "wholeastar.aStar(start,goal)\n",
    "temproute# updating the graph is impossible  "
   ]
  },
  {
   "cell_type": "code",
   "execution_count": 176,
   "metadata": {},
   "outputs": [
    {
     "ename": "TypeError",
     "evalue": "'int' object is not iterable",
     "output_type": "error",
     "traceback": [
      "\u001b[1;31m---------------------------------------------------------------------------\u001b[0m",
      "\u001b[1;31mTypeError\u001b[0m                                 Traceback (most recent call last)",
      "\u001b[1;32m<ipython-input-176-65b37ad855e6>\u001b[0m in \u001b[0;36m<module>\u001b[1;34m()\u001b[0m\n\u001b[1;32m----> 1\u001b[1;33m \u001b[0mtemproute\u001b[0m\u001b[1;33m=\u001b[0m\u001b[0mpd\u001b[0m\u001b[1;33m.\u001b[0m\u001b[0mDataFrame\u001b[0m\u001b[1;33m(\u001b[0m\u001b[0mlist\u001b[0m\u001b[1;33m(\u001b[0m\u001b[0mtemproute\u001b[0m\u001b[1;33m)\u001b[0m\u001b[1;33m)\u001b[0m\u001b[1;33m\u001b[0m\u001b[0m\n\u001b[0m\u001b[0;32m      2\u001b[0m \u001b[0mtemproute\u001b[0m\u001b[1;33m.\u001b[0m\u001b[0mhead\u001b[0m\u001b[1;33m(\u001b[0m\u001b[1;36m10\u001b[0m\u001b[1;33m)\u001b[0m\u001b[1;33m\u001b[0m\u001b[0m\n",
      "\u001b[1;31mTypeError\u001b[0m: 'int' object is not iterable"
     ]
    }
   ],
   "source": [
    "temproute=pd.DataFrame(list(temproute))\n",
    "temproute.head(10)"
   ]
  },
  {
   "cell_type": "code",
   "execution_count": 159,
   "metadata": {
    "collapsed": true
   },
   "outputs": [],
   "source": [
    "temproute=temproute.rename(index=str,columns={0:\"x\",1:\"y\"})"
   ]
  },
  {
   "cell_type": "code",
   "execution_count": 165,
   "metadata": {},
   "outputs": [
    {
     "data": {
      "image/png": "iVBORw0KGgoAAAANSUhEUgAAAuEAAAHvCAYAAAD6ogF/AAAABHNCSVQICAgIfAhkiAAAAAlwSFlz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\nRK5CYII=\n",
      "text/plain": [
       "<matplotlib.figure.Figure at 0x180bd0a9668>"
      ]
     },
     "metadata": {},
     "output_type": "display_data"
    },
    {
     "data": {
      "text/plain": [
       "<ggplot: (103277430406)>"
      ]
     },
     "execution_count": 165,
     "metadata": {},
     "output_type": "execute_result"
    }
   ],
   "source": [
    "from ggplot import *\n",
    "ggplot(aes(x=\"x\",y=\"y\"),data=temproute)+geom_path()"
   ]
  },
  {
   "cell_type": "code",
   "execution_count": null,
   "metadata": {
    "collapsed": true
   },
   "outputs": [],
   "source": [
    "# I would like to get route of 10 balloons in one day  store them in a dataframe \n",
    "for city in df.iloc[1:,0:2].values:\n",
    "    start=tuple(df.iloc[0,0:2])\n",
    "    end=tuple(city)\n",
    "    "
   ]
  }
 ],
 "metadata": {
  "kernelspec": {
   "display_name": "Python 3",
   "language": "python",
   "name": "python3"
  },
  "language_info": {
   "codemirror_mode": {
    "name": "ipython",
    "version": 3
   },
   "file_extension": ".py",
   "mimetype": "text/x-python",
   "name": "python",
   "nbconvert_exporter": "python",
   "pygments_lexer": "ipython3",
   "version": "3.6.1"
  }
 },
 "nbformat": 4,
 "nbformat_minor": 2
}
