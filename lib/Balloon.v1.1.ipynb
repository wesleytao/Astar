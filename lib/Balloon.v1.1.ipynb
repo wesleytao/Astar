{
 "cells": [
  {
   "cell_type": "code",
   "execution_count": 1,
   "metadata": {},
   "outputs": [
    {
     "data": {
      "text/plain": [
       "'C:\\\\Users\\\\wesle\\\\Desktop\\\\contest\\\\CityData.csv'"
      ]
     },
     "execution_count": 1,
     "metadata": {},
     "output_type": "execute_result"
    }
   ],
   "source": [
    "import os\n",
    "import pandas as pd\n",
    "citypath = os.path.expanduser('~wesle\\Desktop\\contest\\CityData.csv')\n",
    "citypath\n",
    "# dir(os)\n",
    "# from numpy import genfromtxt\n",
    "# my_data = genfromtxt('ForecastDataforTraining_201712.csv', delimiter=',')"
   ]
  },
  {
   "cell_type": "code",
   "execution_count": 2,
   "metadata": {
    "scrolled": true
   },
   "outputs": [
    {
     "data": {
      "text/html": [
       "<div>\n",
       "<style>\n",
       "    .dataframe thead tr:only-child th {\n",
       "        text-align: right;\n",
       "    }\n",
       "\n",
       "    .dataframe thead th {\n",
       "        text-align: left;\n",
       "    }\n",
       "\n",
       "    .dataframe tbody tr th {\n",
       "        vertical-align: top;\n",
       "    }\n",
       "</style>\n",
       "<table border=\"1\" class=\"dataframe\">\n",
       "  <thead>\n",
       "    <tr style=\"text-align: right;\">\n",
       "      <th></th>\n",
       "      <th>cid</th>\n",
       "      <th>xid</th>\n",
       "      <th>yid</th>\n",
       "    </tr>\n",
       "  </thead>\n",
       "  <tbody>\n",
       "    <tr>\n",
       "      <th>0</th>\n",
       "      <td>0</td>\n",
       "      <td>142</td>\n",
       "      <td>328</td>\n",
       "    </tr>\n",
       "    <tr>\n",
       "      <th>1</th>\n",
       "      <td>1</td>\n",
       "      <td>84</td>\n",
       "      <td>203</td>\n",
       "    </tr>\n",
       "    <tr>\n",
       "      <th>2</th>\n",
       "      <td>2</td>\n",
       "      <td>199</td>\n",
       "      <td>371</td>\n",
       "    </tr>\n",
       "    <tr>\n",
       "      <th>3</th>\n",
       "      <td>3</td>\n",
       "      <td>140</td>\n",
       "      <td>234</td>\n",
       "    </tr>\n",
       "    <tr>\n",
       "      <th>4</th>\n",
       "      <td>4</td>\n",
       "      <td>236</td>\n",
       "      <td>241</td>\n",
       "    </tr>\n",
       "    <tr>\n",
       "      <th>5</th>\n",
       "      <td>5</td>\n",
       "      <td>315</td>\n",
       "      <td>281</td>\n",
       "    </tr>\n",
       "    <tr>\n",
       "      <th>6</th>\n",
       "      <td>6</td>\n",
       "      <td>358</td>\n",
       "      <td>207</td>\n",
       "    </tr>\n",
       "    <tr>\n",
       "      <th>7</th>\n",
       "      <td>7</td>\n",
       "      <td>363</td>\n",
       "      <td>237</td>\n",
       "    </tr>\n",
       "    <tr>\n",
       "      <th>8</th>\n",
       "      <td>8</td>\n",
       "      <td>423</td>\n",
       "      <td>266</td>\n",
       "    </tr>\n",
       "    <tr>\n",
       "      <th>9</th>\n",
       "      <td>9</td>\n",
       "      <td>125</td>\n",
       "      <td>375</td>\n",
       "    </tr>\n",
       "    <tr>\n",
       "      <th>10</th>\n",
       "      <td>10</td>\n",
       "      <td>189</td>\n",
       "      <td>274</td>\n",
       "    </tr>\n",
       "  </tbody>\n",
       "</table>\n",
       "</div>"
      ],
      "text/plain": [
       "    cid  xid  yid\n",
       "0     0  142  328\n",
       "1     1   84  203\n",
       "2     2  199  371\n",
       "3     3  140  234\n",
       "4     4  236  241\n",
       "5     5  315  281\n",
       "6     6  358  207\n",
       "7     7  363  237\n",
       "8     8  423  266\n",
       "9     9  125  375\n",
       "10   10  189  274"
      ]
     },
     "execution_count": 2,
     "metadata": {},
     "output_type": "execute_result"
    }
   ],
   "source": [
    "df=pd.read_csv(citypath)\n",
    "df "
   ]
  },
  {
   "cell_type": "code",
   "execution_count": 5,
   "metadata": {},
   "outputs": [],
   "source": [
    "Train=pd.read_csv(\"C:\\\\Users\\\\wesle\\\\Desktop\\\\contest\\\\In_situMeasurementforTraining_201712.csv\")"
   ]
  },
  {
   "cell_type": "code",
   "execution_count": 10,
   "metadata": {},
   "outputs": [
    {
     "data": {
      "text/plain": [
       "xid        548.0\n",
       "yid        421.0\n",
       "date_id      5.0\n",
       "hour        20.0\n",
       "wind        48.3\n",
       "dtype: float64"
      ]
     },
     "execution_count": 10,
     "metadata": {},
     "output_type": "execute_result"
    }
   ],
   "source": [
    "Train.max()\n",
    "# xid 1-548 yid 1-421 hour 3-20 day 1-5"
   ]
  },
  {
   "cell_type": "code",
   "execution_count": 3,
   "metadata": {},
   "outputs": [
    {
     "name": "stdout",
     "output_type": "stream",
     "text": [
      "[1, 2, 3, 4, 5]\n"
     ]
    }
   ],
   "source": [
    "#lazy evaluation in python\n",
    "from itertools import islice\n",
    "\n",
    "def generator():\n",
    "    i = 1\n",
    "    while True:\n",
    "        yield i\n",
    "        i += 1\n",
    "def take(n, iterable):\n",
    "    \"Return first n items of the iterable as a list\"\n",
    "    return list(islice(iterable, n))\n",
    " \n",
    "print (take(5, generator()))"
   ]
  },
  {
   "cell_type": "code",
   "execution_count": 5,
   "metadata": {},
   "outputs": [
    {
     "data": {
      "text/plain": [
       "<generator object reverse at 0x00000283B1E2D6D0>"
      ]
     },
     "execution_count": 5,
     "metadata": {},
     "output_type": "execute_result"
    }
   ],
   "source": [
    "def reverse(data):\n",
    "    for index in range(len(data)-1, -1, -1):\n",
    "        yield data[index]\n",
    "reverse([1,2])"
   ]
  },
  {
   "cell_type": "code",
   "execution_count": 144,
   "metadata": {},
   "outputs": [],
   "source": [
    "class Vertex:\n",
    "    def __init__(self,key):\n",
    "        # key is the tuple\n",
    "        self.id = key\n",
    "        # each vertex has four neighbours and itself \n",
    "        # store in dictionary\n",
    "        self.connectedTo = {}\n",
    "        self.weather ={}\n",
    "    def setWeather(self,timeid,wind):\n",
    "        self.weather[timeid] = wind\n",
    "  \n",
    "    def addNeighbor(self,nbr,weight=1):\n",
    "        #nbr is a vertex\n",
    "        self.connectedTo[nbr.id] = weight\n",
    "    \n",
    "       \n",
    "    def __str__(self):\n",
    "        return str(self.id) + ' connectedTo: ' + str([key for key in self.connectedTo])\n"
   ]
  },
  {
   "cell_type": "code",
   "execution_count": 145,
   "metadata": {},
   "outputs": [
    {
     "name": "stdout",
     "output_type": "stream",
     "text": [
      "(1, 1) connectedTo: []\n",
      "(1, 1) connectedTo: [(1, 2)]\n"
     ]
    }
   ],
   "source": [
    "node1=Vertex((1,1))\n",
    "node2=Vertex((1,2))\n",
    "print(node1)\n",
    "node1.addNeighbor(node2)\n",
    "print(node1)\n"
   ]
  },
  {
   "cell_type": "code",
   "execution_count": 146,
   "metadata": {
    "collapsed": true
   },
   "outputs": [],
   "source": [
    "class Graph:\n",
    "    def __init__(self,max_x,max_y):\n",
    "        self.vertList    = {}\n",
    "        self.numVertices = max_x*max_y\n",
    "        self.length      = max_y\n",
    "        self.width       = max_x\n",
    "        for x in range(1,max_x+1):\n",
    "            for y in range(1,max_y+1):\n",
    "                self.vertList[(x,y)] = Vertex((x,y))\n",
    "    def getVertices(self):\n",
    "        return self.vertList.keys()\n",
    "   \n",
    "    def __contains__(self,n):\n",
    "        return n in self.vertList\n",
    "    \n",
    "    def __iter__(self):\n",
    "        return iter(self.vertList.values())\n",
    "    \n",
    "    def addEdge(self,f,t,cost=1):\n",
    "        if f not in self.vertList:\n",
    "            raise ValueError(\"f is not in the graph\")\n",
    "        if t not in self.vertList:\n",
    "            raise ValueError(\"t is not in the graph\")\n",
    "        self.vertList[f].addNeighbor(self.vertList[t], cost)\n",
    "        \n",
    "    def deleteEdge(self,f,t):\n",
    "        if f not in self.vertList:\n",
    "            raise ValueError(\"f is not in the graph\")\n",
    "        if t not in self.vertList:\n",
    "            raise ValueError(\"t is not in the graph\")\n",
    "        # pairwise delete\n",
    "        del self.vertList[f].connectedTo[t] \n",
    "        del self.vertList[t].connectedTo[f]\n"
   ]
  },
  {
   "cell_type": "code",
   "execution_count": 163,
   "metadata": {},
   "outputs": [],
   "source": [
    "testgraph=Graph(3,3)\n"
   ]
  },
  {
   "cell_type": "code",
   "execution_count": 164,
   "metadata": {},
   "outputs": [
    {
     "data": {
      "text/plain": [
       "[(1, 1), (1, 2), (1, 3), (2, 1), (2, 2), (2, 3), (3, 1), (3, 2), (3, 3)]"
      ]
     },
     "execution_count": 164,
     "metadata": {},
     "output_type": "execute_result"
    }
   ],
   "source": [
    "[key for key in testgraph.vertList]"
   ]
  },
  {
   "cell_type": "code",
   "execution_count": 165,
   "metadata": {},
   "outputs": [
    {
     "data": {
      "text/plain": [
       "True"
      ]
     },
     "execution_count": 165,
     "metadata": {},
     "output_type": "execute_result"
    }
   ],
   "source": [
    "(1,1) in testgraph"
   ]
  },
  {
   "cell_type": "code",
   "execution_count": 162,
   "metadata": {
    "collapsed": true
   },
   "outputs": [],
   "source": [
    "def makegrid(myGraph):\n",
    "    for vertice in myGraph:\n",
    "        #left \n",
    "        if vertice.id[0]>=2:\n",
    "            left=(vertice.id[0]-1,vertice.id[1])  \n",
    "            try:\n",
    "                myGraph.addEdge(vertice.id,left)\n",
    "            except ValueError as e:\n",
    "                print(e)\n",
    "                pass\n",
    " \n",
    "                \n",
    "        #right\n",
    "        if vertice.id[0]<=myGraph.width-1:\n",
    "            right=(vertice.id[0]+1,vertice.id[1])             \n",
    "            try:\n",
    "                myGraph.addEdge(vertice.id,right)\n",
    "            except ValueError as e:\n",
    "                print(e)\n",
    "                pass\n",
    " \n",
    "        # up\n",
    "        if vertice.id[1]<=myGraph.length-1:\n",
    "            up=(vertice.id[0],vertice.id[1]+1)             \n",
    "            try:\n",
    "                myGraph.addEdge(vertice.id,up)\n",
    "            except ValueError as e:\n",
    "                print(e)\n",
    "                pass\n",
    " \n",
    "        # down\n",
    "        if vertice.id[1]>=2:\n",
    "            down=(vertice.id[0],vertice.id[1]-1)             \n",
    "            try:\n",
    "                myGraph.addEdge(vertice.id,down)\n",
    "            except ValueError as e:\n",
    "                print(e)\n",
    "                pass\n",
    " \n",
    "        # connect to itself\n",
    "#         myGraph.addEdge(vertice.id,vertice.id)\n",
    "            "
   ]
  },
  {
   "cell_type": "code",
   "execution_count": 166,
   "metadata": {},
   "outputs": [],
   "source": [
    "makegrid(testgraph)"
   ]
  },
  {
   "cell_type": "code",
   "execution_count": 167,
   "metadata": {},
   "outputs": [
    {
     "name": "stdout",
     "output_type": "stream",
     "text": [
      "(1, 1) connectedTo: [(2, 1), (1, 2)]\n",
      "(1, 2) connectedTo: [(2, 2), (1, 3), (1, 1)]\n",
      "(1, 3) connectedTo: [(2, 3), (1, 2)]\n",
      "(2, 1) connectedTo: [(1, 1), (3, 1), (2, 2)]\n",
      "(2, 2) connectedTo: [(1, 2), (3, 2), (2, 3), (2, 1)]\n",
      "(2, 3) connectedTo: [(1, 3), (3, 3), (2, 2)]\n",
      "(3, 1) connectedTo: [(2, 1), (3, 2)]\n",
      "(3, 2) connectedTo: [(2, 2), (3, 3), (3, 1)]\n",
      "(3, 3) connectedTo: [(2, 3), (3, 2)]\n"
     ]
    }
   ],
   "source": [
    "for myvertice in testgraph:\n",
    "    print(myvertice)"
   ]
  },
  {
   "cell_type": "code",
   "execution_count": 168,
   "metadata": {},
   "outputs": [],
   "source": [
    "testgraph.deleteEdge((1,1),(2,1))"
   ]
  },
  {
   "cell_type": "code",
   "execution_count": 169,
   "metadata": {},
   "outputs": [
    {
     "name": "stdout",
     "output_type": "stream",
     "text": [
      "(1, 1) connectedTo: [(1, 2)]\n",
      "(1, 2) connectedTo: [(2, 2), (1, 3), (1, 1)]\n",
      "(1, 3) connectedTo: [(2, 3), (1, 2)]\n",
      "(2, 1) connectedTo: [(3, 1), (2, 2)]\n",
      "(2, 2) connectedTo: [(1, 2), (3, 2), (2, 3), (2, 1)]\n",
      "(2, 3) connectedTo: [(1, 3), (3, 3), (2, 2)]\n",
      "(3, 1) connectedTo: [(2, 1), (3, 2)]\n",
      "(3, 2) connectedTo: [(2, 2), (3, 3), (3, 1)]\n",
      "(3, 3) connectedTo: [(2, 3), (3, 2)]\n"
     ]
    }
   ],
   "source": [
    "for myvertice in testgraph:\n",
    "    print(myvertice)"
   ]
  },
  {
   "cell_type": "code",
   "execution_count": 175,
   "metadata": {},
   "outputs": [
    {
     "name": "stdout",
     "output_type": "stream",
     "text": [
      "(1, 1) connectedTo: []\n",
      "(1, 2) connectedTo: [(2, 2), (1, 3)]\n",
      "(1, 3) connectedTo: [(2, 3), (1, 2)]\n",
      "(2, 1) connectedTo: [(3, 1), (2, 2)]\n",
      "(2, 2) connectedTo: [(1, 2), (3, 2), (2, 3), (2, 1)]\n",
      "(2, 3) connectedTo: [(1, 3), (3, 3), (2, 2)]\n",
      "(3, 1) connectedTo: [(2, 1), (3, 2)]\n",
      "(3, 2) connectedTo: [(2, 2), (3, 3), (3, 1)]\n",
      "(3, 3) connectedTo: [(2, 3), (3, 2)]\n"
     ]
    }
   ],
   "source": [
    "# need to make obstacles\n",
    "# disconnect the dots with its neighbour\n",
    "def disconnect(graph,dot):\n",
    "    neighbour=[key for key in graph.vertList[dot].connectedTo]\n",
    "    for i in neighbour:\n",
    "        graph.deleteEdge(dot,i)\n",
    "disconnect(testgraph,(1,1))\n",
    "for myvertice in testgraph:\n",
    "    print(myvertice)"
   ]
  },
  {
   "cell_type": "code",
   "execution_count": null,
   "metadata": {
    "collapsed": true
   },
   "outputs": [],
   "source": []
  }
 ],
 "metadata": {
  "kernelspec": {
   "display_name": "Python 3",
   "language": "python",
   "name": "python3"
  },
  "language_info": {
   "codemirror_mode": {
    "name": "ipython",
    "version": 3
   },
   "file_extension": ".py",
   "mimetype": "text/x-python",
   "name": "python",
   "nbconvert_exporter": "python",
   "pygments_lexer": "ipython3",
   "version": "3.6.1"
  }
 },
 "nbformat": 4,
 "nbformat_minor": 2
}
