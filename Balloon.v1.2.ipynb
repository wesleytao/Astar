{
 "cells": [
  {
   "cell_type": "code",
   "execution_count": 61,
   "metadata": {},
   "outputs": [
    {
     "data": {
      "text/plain": [
       "'C:\\\\Users\\\\wesle\\\\Desktop\\\\contest\\\\data\\\\CityData.csv'"
      ]
     },
     "execution_count": 61,
     "metadata": {},
     "output_type": "execute_result"
    }
   ],
   "source": [
    "import os\n",
    "import pandas as pd\n",
    "citypath = os.path.expanduser('~wesle\\Desktop\\contest\\data\\CityData.csv')\n",
    "citypath\n",
    "# dir(os)\n",
    "# from numpy import genfromtxt\n",
    "# my_data = genfromtxt('ForecastDataforTraining_201712.csv', delimiter=',')"
   ]
  },
  {
   "cell_type": "code",
   "execution_count": 62,
   "metadata": {
    "scrolled": true
   },
   "outputs": [
    {
     "data": {
      "text/html": [
       "<div>\n",
       "<style>\n",
       "    .dataframe thead tr:only-child th {\n",
       "        text-align: right;\n",
       "    }\n",
       "\n",
       "    .dataframe thead th {\n",
       "        text-align: left;\n",
       "    }\n",
       "\n",
       "    .dataframe tbody tr th {\n",
       "        vertical-align: top;\n",
       "    }\n",
       "</style>\n",
       "<table border=\"1\" class=\"dataframe\">\n",
       "  <thead>\n",
       "    <tr style=\"text-align: right;\">\n",
       "      <th></th>\n",
       "      <th>cid</th>\n",
       "      <th>xid</th>\n",
       "      <th>yid</th>\n",
       "    </tr>\n",
       "  </thead>\n",
       "  <tbody>\n",
       "    <tr>\n",
       "      <th>0</th>\n",
       "      <td>0</td>\n",
       "      <td>142</td>\n",
       "      <td>328</td>\n",
       "    </tr>\n",
       "    <tr>\n",
       "      <th>1</th>\n",
       "      <td>1</td>\n",
       "      <td>84</td>\n",
       "      <td>203</td>\n",
       "    </tr>\n",
       "    <tr>\n",
       "      <th>2</th>\n",
       "      <td>2</td>\n",
       "      <td>199</td>\n",
       "      <td>371</td>\n",
       "    </tr>\n",
       "    <tr>\n",
       "      <th>3</th>\n",
       "      <td>3</td>\n",
       "      <td>140</td>\n",
       "      <td>234</td>\n",
       "    </tr>\n",
       "    <tr>\n",
       "      <th>4</th>\n",
       "      <td>4</td>\n",
       "      <td>236</td>\n",
       "      <td>241</td>\n",
       "    </tr>\n",
       "    <tr>\n",
       "      <th>5</th>\n",
       "      <td>5</td>\n",
       "      <td>315</td>\n",
       "      <td>281</td>\n",
       "    </tr>\n",
       "    <tr>\n",
       "      <th>6</th>\n",
       "      <td>6</td>\n",
       "      <td>358</td>\n",
       "      <td>207</td>\n",
       "    </tr>\n",
       "    <tr>\n",
       "      <th>7</th>\n",
       "      <td>7</td>\n",
       "      <td>363</td>\n",
       "      <td>237</td>\n",
       "    </tr>\n",
       "    <tr>\n",
       "      <th>8</th>\n",
       "      <td>8</td>\n",
       "      <td>423</td>\n",
       "      <td>266</td>\n",
       "    </tr>\n",
       "    <tr>\n",
       "      <th>9</th>\n",
       "      <td>9</td>\n",
       "      <td>125</td>\n",
       "      <td>375</td>\n",
       "    </tr>\n",
       "    <tr>\n",
       "      <th>10</th>\n",
       "      <td>10</td>\n",
       "      <td>189</td>\n",
       "      <td>274</td>\n",
       "    </tr>\n",
       "  </tbody>\n",
       "</table>\n",
       "</div>"
      ],
      "text/plain": [
       "    cid  xid  yid\n",
       "0     0  142  328\n",
       "1     1   84  203\n",
       "2     2  199  371\n",
       "3     3  140  234\n",
       "4     4  236  241\n",
       "5     5  315  281\n",
       "6     6  358  207\n",
       "7     7  363  237\n",
       "8     8  423  266\n",
       "9     9  125  375\n",
       "10   10  189  274"
      ]
     },
     "execution_count": 62,
     "metadata": {},
     "output_type": "execute_result"
    }
   ],
   "source": [
    "df=pd.read_csv(citypath)\n",
    "df "
   ]
  },
  {
   "cell_type": "code",
   "execution_count": 11,
   "metadata": {
    "collapsed": true
   },
   "outputs": [],
   "source": [
    "Train=pd.read_csv(\"C:\\\\Users\\\\wesle\\\\Desktop\\\\contest\\\\data\\\\In_situMeasurementforTraining_201712.csv\")"
   ]
  },
  {
   "cell_type": "code",
   "execution_count": 10,
   "metadata": {},
   "outputs": [
    {
     "data": {
      "text/plain": [
       "xid        548.0\n",
       "yid        421.0\n",
       "date_id      5.0\n",
       "hour        20.0\n",
       "wind        48.3\n",
       "dtype: float64"
      ]
     },
     "execution_count": 10,
     "metadata": {},
     "output_type": "execute_result"
    }
   ],
   "source": [
    "Train.max()\n",
    "# xid 1-548 yid 1-421 hour 3-20 day 1-5"
   ]
  },
  {
   "cell_type": "code",
   "execution_count": 1,
   "metadata": {
    "collapsed": true
   },
   "outputs": [],
   "source": [
    "class Vertex:\n",
    "    def __init__(self,key):\n",
    "        # key is the tuple\n",
    "        self.id = key\n",
    "        # each vertex has four neighbours and itself \n",
    "        # store in dictionary\n",
    "        self.connectedTo = {}\n",
    "        self.weather ={}\n",
    "        \n",
    "    def setWeather(self,timeid,wind):\n",
    "        self.weather[timeid] = wind\n",
    "  \n",
    "    def addNeighbor(self,nbr,weight=1):\n",
    "        #nbr is a vertex\n",
    "        self.connectedTo[nbr.id] = weight\n",
    "        # when I store the information about the connectivity, diction is used, key is tuple,obj is weight\n",
    "        \n",
    "        \n",
    "    def __str__(self):\n",
    "        return str(self.id) + ' connectedTo: ' + str([key for key in self.connectedTo])\n"
   ]
  },
  {
   "cell_type": "code",
   "execution_count": 51,
   "metadata": {},
   "outputs": [
    {
     "name": "stdout",
     "output_type": "stream",
     "text": [
      "(1, 1) connectedTo: []\n",
      "(1, 1) connectedTo: [(1, 2)]\n"
     ]
    },
    {
     "data": {
      "text/plain": [
       "{(1, 2)}"
      ]
     },
     "execution_count": 51,
     "metadata": {},
     "output_type": "execute_result"
    }
   ],
   "source": [
    "node1=Vertex((1,1))\n",
    "node2=Vertex((1,2))\n",
    "print(node1)\n",
    "node1.addNeighbor(node2)\n",
    "print(node1)\n",
    "set(node1.connectedTo.keys())"
   ]
  },
  {
   "cell_type": "code",
   "execution_count": 106,
   "metadata": {
    "collapsed": true
   },
   "outputs": [],
   "source": [
    "class Graph:\n",
    "    def __init__(self,max_x,max_y):\n",
    "        self.vertList    = {}\n",
    "        self.numVertices = max_x*max_y\n",
    "        self.length      = max_y\n",
    "        self.width       = max_x\n",
    "        for x in range(1,max_x+1):\n",
    "            for y in range(1,max_y+1):\n",
    "                self.vertList[(x,y)] = Vertex((x,y))\n",
    "                # each key is a tuple and the objects are Vertex obj\n",
    "    \n",
    "    def makegrid(self):\n",
    "        ''' make connection among each vertex'''\n",
    "        for vertice in self:\n",
    "            #left \n",
    "            if vertice.id[0]>=2:\n",
    "                left=(vertice.id[0]-1,vertice.id[1])  \n",
    "                try:\n",
    "                    self.addEdge(vertice.id,left)\n",
    "                except ValueError as e:\n",
    "                    print(e)\n",
    "                    pass\n",
    "\n",
    "\n",
    "            #right\n",
    "            if vertice.id[0]<=self.width-1:\n",
    "                right=(vertice.id[0]+1,vertice.id[1])             \n",
    "                try:\n",
    "                    self.addEdge(vertice.id,right)\n",
    "                except ValueError as e:\n",
    "                    print(e)\n",
    "                    pass\n",
    "\n",
    "            # up\n",
    "            if vertice.id[1]<=self.length-1:\n",
    "                up=(vertice.id[0],vertice.id[1]+1)             \n",
    "                try:\n",
    "                    self.addEdge(vertice.id,up)\n",
    "                except ValueError as e:\n",
    "                    print(e)\n",
    "                    pass\n",
    "\n",
    "            # down\n",
    "            if vertice.id[1]>=2:\n",
    "                down=(vertice.id[0],vertice.id[1]-1)             \n",
    "                try:\n",
    "                    self.addEdge(vertice.id,down)\n",
    "                except ValueError as e:\n",
    "                    print(e)\n",
    "                    pass\n",
    "    \n",
    "    def getVertexNeighbour(self,v):\n",
    "        if v in self:\n",
    "            return set(self.vertList[v].connectedTo.keys())\n",
    "        else:\n",
    "            raise TypeError(\"it is not in the graph\")\n",
    "   \n",
    "    def __contains__(self,n):\n",
    "        return n in self.vertList\n",
    "    \n",
    "    def __iter__(self):\n",
    "        return iter(self.vertList.values())\n",
    "    \n",
    "    def addEdge(self,f,t,cost=1):\n",
    "        if f not in self.vertList:\n",
    "            raise ValueError(\"f is not in the graph\")\n",
    "        if t not in self.vertList:\n",
    "            raise ValueError(\"t is not in the graph\")\n",
    "        self.vertList[f].addNeighbor(self.vertList[t], cost)\n",
    "        \n",
    "    def deleteEdge(self,f,t):\n",
    "        if f not in self.vertList:\n",
    "            raise ValueError(\"f is not in the graph\")\n",
    "        if t not in self.vertList:\n",
    "            raise ValueError(\"t is not in the graph\")\n",
    "        # pairwise delete\n",
    "        del self.vertList[f].connectedTo[t] \n",
    "        del self.vertList[t].connectedTo[f]\n",
    "    \n",
    "     # need to make obstacles\n",
    "     # disconnect the dots with its neighbour\n",
    "    def disconnect(self,thisvertex):\n",
    "        neighbour=[key for key in self.vertList[thisvertex].connectedTo]\n",
    "        for i in neighbour:\n",
    "            self.deleteEdge(thisvertex,i)\n",
    "            \n",
    "    def printwholegraph(self):\n",
    "        for myvertice in self:\n",
    "            print(myvertice)\n",
    "            \n",
    "    def isdisconnect(self,v):\n",
    "        # if all the neighbour is not reachable \n",
    "        if self.getVertexNeighbour(v) ==set():\n",
    "            return True\n",
    "        else: return False"
   ]
  },
  {
   "cell_type": "code",
   "execution_count": 123,
   "metadata": {},
   "outputs": [
    {
     "name": "stdout",
     "output_type": "stream",
     "text": [
      "(1, 1) connectedTo: []\n",
      "(1, 2) connectedTo: []\n",
      "(1, 3) connectedTo: []\n",
      "(1, 4) connectedTo: []\n",
      "(2, 1) connectedTo: []\n",
      "(2, 2) connectedTo: []\n",
      "(2, 3) connectedTo: []\n",
      "(2, 4) connectedTo: []\n",
      "(3, 1) connectedTo: []\n",
      "(3, 2) connectedTo: []\n",
      "(3, 3) connectedTo: []\n",
      "(3, 4) connectedTo: []\n",
      "(4, 1) connectedTo: []\n",
      "(4, 2) connectedTo: []\n",
      "(4, 3) connectedTo: []\n",
      "(4, 4) connectedTo: []\n"
     ]
    }
   ],
   "source": [
    "testgraph=Graph(4,4)\n",
    "testgraph.printwholegraph()"
   ]
  },
  {
   "cell_type": "code",
   "execution_count": 124,
   "metadata": {},
   "outputs": [],
   "source": [
    "testgraph.makegrid()\n"
   ]
  },
  {
   "cell_type": "code",
   "execution_count": 125,
   "metadata": {},
   "outputs": [
    {
     "name": "stdout",
     "output_type": "stream",
     "text": [
      "(1, 1) connectedTo: [(2, 1), (1, 2)]\n",
      "(1, 2) connectedTo: [(2, 2), (1, 3), (1, 1)]\n",
      "(1, 3) connectedTo: [(2, 3), (1, 4), (1, 2)]\n",
      "(1, 4) connectedTo: [(2, 4), (1, 3)]\n",
      "(2, 1) connectedTo: [(1, 1), (3, 1), (2, 2)]\n",
      "(2, 2) connectedTo: [(1, 2), (3, 2), (2, 3), (2, 1)]\n",
      "(2, 3) connectedTo: [(1, 3), (3, 3), (2, 4), (2, 2)]\n",
      "(2, 4) connectedTo: [(1, 4), (3, 4), (2, 3)]\n",
      "(3, 1) connectedTo: [(2, 1), (4, 1), (3, 2)]\n",
      "(3, 2) connectedTo: [(2, 2), (4, 2), (3, 3), (3, 1)]\n",
      "(3, 3) connectedTo: [(2, 3), (4, 3), (3, 4), (3, 2)]\n",
      "(3, 4) connectedTo: [(2, 4), (4, 4), (3, 3)]\n",
      "(4, 1) connectedTo: [(3, 1), (4, 2)]\n",
      "(4, 2) connectedTo: [(3, 2), (4, 3), (4, 1)]\n",
      "(4, 3) connectedTo: [(3, 3), (4, 4), (4, 2)]\n",
      "(4, 4) connectedTo: [(3, 4), (4, 3)]\n"
     ]
    }
   ],
   "source": [
    "testgraph.printwholegraph()"
   ]
  },
  {
   "cell_type": "code",
   "execution_count": 126,
   "metadata": {},
   "outputs": [
    {
     "data": {
      "text/plain": [
       "[(1, 1),\n",
       " (1, 2),\n",
       " (1, 3),\n",
       " (1, 4),\n",
       " (2, 1),\n",
       " (2, 2),\n",
       " (2, 3),\n",
       " (2, 4),\n",
       " (3, 1),\n",
       " (3, 2),\n",
       " (3, 3),\n",
       " (3, 4),\n",
       " (4, 1),\n",
       " (4, 2),\n",
       " (4, 3),\n",
       " (4, 4)]"
      ]
     },
     "execution_count": 126,
     "metadata": {},
     "output_type": "execute_result"
    }
   ],
   "source": [
    "[key for key in testgraph.vertList]"
   ]
  },
  {
   "cell_type": "code",
   "execution_count": 127,
   "metadata": {},
   "outputs": [
    {
     "data": {
      "text/plain": [
       "True"
      ]
     },
     "execution_count": 127,
     "metadata": {},
     "output_type": "execute_result"
    }
   ],
   "source": [
    "(1,1) in testgraph"
   ]
  },
  {
   "cell_type": "code",
   "execution_count": 112,
   "metadata": {},
   "outputs": [
    {
     "data": {
      "text/plain": [
       "False"
      ]
     },
     "execution_count": 112,
     "metadata": {},
     "output_type": "execute_result"
    }
   ],
   "source": [
    "testgraph.isdisconnect((1,1))"
   ]
  },
  {
   "cell_type": "code",
   "execution_count": 128,
   "metadata": {},
   "outputs": [],
   "source": [
    "testgraph.disconnect((2,2))"
   ]
  },
  {
   "cell_type": "code",
   "execution_count": 129,
   "metadata": {},
   "outputs": [
    {
     "name": "stdout",
     "output_type": "stream",
     "text": [
      "(1, 1) connectedTo: [(2, 1), (1, 2)]\n",
      "(1, 2) connectedTo: [(1, 3), (1, 1)]\n",
      "(1, 3) connectedTo: [(2, 3), (1, 4), (1, 2)]\n",
      "(1, 4) connectedTo: [(2, 4), (1, 3)]\n",
      "(2, 1) connectedTo: [(1, 1), (3, 1)]\n",
      "(2, 2) connectedTo: []\n",
      "(2, 3) connectedTo: [(1, 3), (3, 3), (2, 4)]\n",
      "(2, 4) connectedTo: [(1, 4), (3, 4), (2, 3)]\n",
      "(3, 1) connectedTo: [(2, 1), (4, 1), (3, 2)]\n",
      "(3, 2) connectedTo: [(4, 2), (3, 3), (3, 1)]\n",
      "(3, 3) connectedTo: [(2, 3), (4, 3), (3, 4), (3, 2)]\n",
      "(3, 4) connectedTo: [(2, 4), (4, 4), (3, 3)]\n",
      "(4, 1) connectedTo: [(3, 1), (4, 2)]\n",
      "(4, 2) connectedTo: [(3, 2), (4, 3), (4, 1)]\n",
      "(4, 3) connectedTo: [(3, 3), (4, 4), (4, 2)]\n",
      "(4, 4) connectedTo: [(3, 4), (4, 3)]\n"
     ]
    }
   ],
   "source": [
    "testgraph.printwholegraph()"
   ]
  },
  {
   "cell_type": "code",
   "execution_count": 130,
   "metadata": {},
   "outputs": [
    {
     "data": {
      "text/plain": [
       "True"
      ]
     },
     "execution_count": 130,
     "metadata": {},
     "output_type": "execute_result"
    }
   ],
   "source": [
    "testgraph.isdisconnect((2,2))"
   ]
  },
  {
   "cell_type": "code",
   "execution_count": 131,
   "metadata": {},
   "outputs": [
    {
     "data": {
      "text/plain": [
       "True"
      ]
     },
     "execution_count": 131,
     "metadata": {},
     "output_type": "execute_result"
    }
   ],
   "source": [
    "testgraph.getVertexNeighbour((2,2))==set()"
   ]
  },
  {
   "cell_type": "code",
   "execution_count": 132,
   "metadata": {},
   "outputs": [],
   "source": [
    "testgraph.disconnect((1,1))\n"
   ]
  },
  {
   "cell_type": "code",
   "execution_count": 133,
   "metadata": {},
   "outputs": [
    {
     "data": {
      "text/plain": [
       "True"
      ]
     },
     "execution_count": 133,
     "metadata": {},
     "output_type": "execute_result"
    }
   ],
   "source": [
    "testgraph.isdisconnect((1,1))"
   ]
  },
  {
   "cell_type": "code",
   "execution_count": 134,
   "metadata": {},
   "outputs": [
    {
     "name": "stdout",
     "output_type": "stream",
     "text": [
      "(1, 1) connectedTo: []\n",
      "(1, 2) connectedTo: [(1, 3)]\n",
      "(1, 3) connectedTo: [(2, 3), (1, 4), (1, 2)]\n",
      "(1, 4) connectedTo: [(2, 4), (1, 3)]\n",
      "(2, 1) connectedTo: [(3, 1)]\n",
      "(2, 2) connectedTo: []\n",
      "(2, 3) connectedTo: [(1, 3), (3, 3), (2, 4)]\n",
      "(2, 4) connectedTo: [(1, 4), (3, 4), (2, 3)]\n",
      "(3, 1) connectedTo: [(2, 1), (4, 1), (3, 2)]\n",
      "(3, 2) connectedTo: [(4, 2), (3, 3), (3, 1)]\n",
      "(3, 3) connectedTo: [(2, 3), (4, 3), (3, 4), (3, 2)]\n",
      "(3, 4) connectedTo: [(2, 4), (4, 4), (3, 3)]\n",
      "(4, 1) connectedTo: [(3, 1), (4, 2)]\n",
      "(4, 2) connectedTo: [(3, 2), (4, 3), (4, 1)]\n",
      "(4, 3) connectedTo: [(3, 3), (4, 4), (4, 2)]\n",
      "(4, 4) connectedTo: [(3, 4), (4, 3)]\n"
     ]
    }
   ],
   "source": [
    "testgraph.printwholegraph()"
   ]
  },
  {
   "cell_type": "code",
   "execution_count": 135,
   "metadata": {},
   "outputs": [
    {
     "data": {
      "text/plain": [
       "True"
      ]
     },
     "execution_count": 135,
     "metadata": {},
     "output_type": "execute_result"
    }
   ],
   "source": [
    "(2,2) in testgraph"
   ]
  },
  {
   "cell_type": "code",
   "execution_count": 136,
   "metadata": {},
   "outputs": [
    {
     "data": {
      "text/plain": [
       "{(1, 1),\n",
       " (1, 2),\n",
       " (1, 3),\n",
       " (1, 4),\n",
       " (2, 1),\n",
       " (2, 2),\n",
       " (2, 3),\n",
       " (2, 4),\n",
       " (3, 1),\n",
       " (3, 2),\n",
       " (3, 3),\n",
       " (3, 4),\n",
       " (4, 1),\n",
       " (4, 2),\n",
       " (4, 3),\n",
       " (4, 4)}"
      ]
     },
     "execution_count": 136,
     "metadata": {},
     "output_type": "execute_result"
    }
   ],
   "source": [
    "set(testgraph.vertList.keys())"
   ]
  },
  {
   "cell_type": "code",
   "execution_count": 170,
   "metadata": {},
   "outputs": [],
   "source": [
    "def Dijkstra(graph,start,end):\n",
    "    '''find the shortest path between start and end if there is no path return False else return the path '''\n",
    "    if graph.isdisconnect(start):\n",
    "        raise TypeError('The root of the shortest path tree cannot be reached')\n",
    "    if graph.isdisconnect(end):\n",
    "        raise TypeError('The target of the shortest path cannot be reached') \n",
    "     \n",
    "    # initializing all vertex are set to be unvisited except for the start\n",
    "    unvisited=set(graph.vertList.keys())\n",
    "    visited={start}\n",
    "    unvisited.remove(start)\n",
    "    dist=dict()\n",
    "    path=dict()\n",
    "    for e in unvisited:\n",
    "        dist[e]=float(\"inf\") # infinite means not reachable\n",
    "        path[e]=-1\n",
    "    for n in graph.getVertexNeighbour(start):\n",
    "        dist[n]=1\n",
    "        path[n]=start\n",
    "    dist[start]=0\n",
    "    \n",
    "    while unvisited is not None:\n",
    "        #pick unvisited closest node \n",
    "        subsetdist={k: dist[k] for k in dist.keys() & unvisited}\n",
    "        newnode=min(subsetdist,key=subsetdist.get)\n",
    "        # move it from unvisited to visited\n",
    "        if newnode==end:\n",
    "            break\n",
    "        visited.add(newnode)\n",
    "        \n",
    "        unvisited.remove(newnode)\n",
    "\n",
    "        # update the distance\n",
    "        for n in graph.getVertexNeighbour(newnode):\n",
    "            if dist[newnode]+1<=dist[n]:\n",
    "                dist[n]=dist[newnode]+1\n",
    "                path[n]=newnode\n",
    "    return path\n",
    "                \n",
    "            \n",
    "    "
   ]
  },
  {
   "cell_type": "code",
   "execution_count": 171,
   "metadata": {},
   "outputs": [
    {
     "ename": "TypeError",
     "evalue": "The root of the shortest path tree cannot be reached",
     "output_type": "error",
     "traceback": [
      "\u001b[1;31m---------------------------------------------------------------------------\u001b[0m",
      "\u001b[1;31mTypeError\u001b[0m                                 Traceback (most recent call last)",
      "\u001b[1;32m<ipython-input-171-52852ac93fd6>\u001b[0m in \u001b[0;36m<module>\u001b[1;34m()\u001b[0m\n\u001b[1;32m----> 1\u001b[1;33m \u001b[0mDijkstra\u001b[0m\u001b[1;33m(\u001b[0m\u001b[0mtestgraph\u001b[0m\u001b[1;33m,\u001b[0m\u001b[1;33m(\u001b[0m\u001b[1;36m1\u001b[0m\u001b[1;33m,\u001b[0m\u001b[1;36m1\u001b[0m\u001b[1;33m)\u001b[0m\u001b[1;33m,\u001b[0m\u001b[1;33m(\u001b[0m\u001b[1;36m3\u001b[0m\u001b[1;33m,\u001b[0m\u001b[1;36m3\u001b[0m\u001b[1;33m)\u001b[0m\u001b[1;33m)\u001b[0m\u001b[1;33m\u001b[0m\u001b[0m\n\u001b[0m",
      "\u001b[1;32m<ipython-input-170-1e011bb5d3f1>\u001b[0m in \u001b[0;36mDijkstra\u001b[1;34m(graph, start, end)\u001b[0m\n\u001b[0;32m      2\u001b[0m     \u001b[1;34m'''find the shortest path between start and end if there is no path return False else return the path '''\u001b[0m\u001b[1;33m\u001b[0m\u001b[0m\n\u001b[0;32m      3\u001b[0m     \u001b[1;32mif\u001b[0m \u001b[0mgraph\u001b[0m\u001b[1;33m.\u001b[0m\u001b[0misdisconnect\u001b[0m\u001b[1;33m(\u001b[0m\u001b[0mstart\u001b[0m\u001b[1;33m)\u001b[0m\u001b[1;33m:\u001b[0m\u001b[1;33m\u001b[0m\u001b[0m\n\u001b[1;32m----> 4\u001b[1;33m         \u001b[1;32mraise\u001b[0m \u001b[0mTypeError\u001b[0m\u001b[1;33m(\u001b[0m\u001b[1;34m'The root of the shortest path tree cannot be reached'\u001b[0m\u001b[1;33m)\u001b[0m\u001b[1;33m\u001b[0m\u001b[0m\n\u001b[0m\u001b[0;32m      5\u001b[0m     \u001b[1;32mif\u001b[0m \u001b[0mgraph\u001b[0m\u001b[1;33m.\u001b[0m\u001b[0misdisconnect\u001b[0m\u001b[1;33m(\u001b[0m\u001b[0mend\u001b[0m\u001b[1;33m)\u001b[0m\u001b[1;33m:\u001b[0m\u001b[1;33m\u001b[0m\u001b[0m\n\u001b[0;32m      6\u001b[0m         \u001b[1;32mraise\u001b[0m \u001b[0mTypeError\u001b[0m\u001b[1;33m(\u001b[0m\u001b[1;34m'The target of the shortest path cannot be reached'\u001b[0m\u001b[1;33m)\u001b[0m\u001b[1;33m\u001b[0m\u001b[0m\n",
      "\u001b[1;31mTypeError\u001b[0m: The root of the shortest path tree cannot be reached"
     ]
    }
   ],
   "source": [
    "Dijkstra(testgraph,(1,1),(3,3))"
   ]
  },
  {
   "cell_type": "code",
   "execution_count": 172,
   "metadata": {},
   "outputs": [
    {
     "data": {
      "text/plain": [
       "{(1, 1): -1,\n",
       " (1, 2): -1,\n",
       " (1, 3): (2, 3),\n",
       " (1, 4): -1,\n",
       " (2, 2): -1,\n",
       " (2, 3): (3, 3),\n",
       " (2, 4): (2, 3),\n",
       " (3, 1): (2, 1),\n",
       " (3, 2): (3, 1),\n",
       " (3, 3): (3, 2),\n",
       " (3, 4): (3, 3),\n",
       " (4, 1): (3, 1),\n",
       " (4, 2): (4, 1),\n",
       " (4, 3): (4, 2),\n",
       " (4, 4): (4, 3)}"
      ]
     },
     "execution_count": 172,
     "metadata": {},
     "output_type": "execute_result"
    }
   ],
   "source": [
    "Dijkstra(testgraph,(2,1),(3,4))"
   ]
  }
 ],
 "metadata": {
  "kernelspec": {
   "display_name": "Python 3",
   "language": "python",
   "name": "python3"
  },
  "language_info": {
   "codemirror_mode": {
    "name": "ipython",
    "version": 3
   },
   "file_extension": ".py",
   "mimetype": "text/x-python",
   "name": "python",
   "nbconvert_exporter": "python",
   "pygments_lexer": "ipython3",
   "version": "3.6.1"
  }
 },
 "nbformat": 4,
 "nbformat_minor": 2
}
